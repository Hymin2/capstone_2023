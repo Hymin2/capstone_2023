{
 "cells": [
  {
   "cell_type": "code",
   "execution_count": 27,
   "id": "c5c9ff50",
   "metadata": {},
   "outputs": [],
   "source": [
    "from selenium import webdriver\n",
    "#import chromedriver_autoinstaller\n",
    "from selenium.webdriver.chrome.options import Options\n",
    "from selenium.webdriver.common.by import By\n",
    "from selenium.webdriver.support.ui import WebDriverWait\n",
    "from selenium.webdriver.support import expected_conditions as EC\n",
    "from bs4 import BeautifulSoup\n",
    "from openpyxl import Workbook\n",
    "import time\n",
    "import pandas as pd"
   ]
  },
  {
   "cell_type": "code",
   "execution_count": 28,
   "id": "2c3ca6f3",
   "metadata": {},
   "outputs": [],
   "source": [
    "#xpath가 존재하는지 확인\n",
    "def isExistXpath(xpath, implicitly_wait_time=0, old_wait=25):\n",
    "    driver.implicitly_wait(implicitly_wait_time)\n",
    "    try:\n",
    "        driver.find_element(By.XPATH, xpath)\n",
    "    except Exception:\n",
    "        return False\n",
    "    finally:\n",
    "        driver.implicitly_wait(old_wait)\n",
    "    return True"
   ]
  },
  {
   "cell_type": "code",
   "execution_count": 29,
   "id": "eb966c39",
   "metadata": {},
   "outputs": [],
   "source": [
    "def do_Crawling(num, page):\n",
    "    with_before = 0\n",
    "    \n",
    "    for i in range(len(driver.find_elements(By.CSS_SELECTOR, '.article'))):\n",
    "        articles = driver.find_elements(By.CSS_SELECTOR, 'a.article')[i]\n",
    "        articles.click()\n",
    "        time.sleep(1)\n",
    "        \n",
    "        product_date = driver.find_element(By.CSS_SELECTOR, 'span.date').text\n",
    "        product_date_str = product_date.split('.')\n",
    "        del product_date_str[-1]\n",
    "        product_date = '.'.join(product_date_str)\n",
    "        \n",
    "        try:\n",
    "            product_price_str = driver.find_element(By.CSS_SELECTOR, 'strong.cost').text\n",
    "            product_price_str = product_price_str[:-1]\n",
    "            product_price_str = product_price_str.replace(',', '')\n",
    "            product_price = int(product_price_str)\n",
    "        except:\n",
    "            product_price = ''\n",
    "        \n",
    "        prod_price_total.append([product_date, product_price])\n",
    "        \n",
    "        driver.back()\n",
    "        driver.switch_to.frame('cafe_main')\n",
    "    \n",
    "    cur_path = '//*[@id=\"main-area\"]/div[7]/a[{}]'.format(num+page+1)\n",
    "    driver.find_element(By.XPATH, cur_path).click()"
   ]
  },
  {
   "cell_type": "code",
   "execution_count": 47,
   "id": "759850be",
   "metadata": {},
   "outputs": [],
   "source": [
    "#상품명 리스트 뽑기\n",
    "def get_product_list():\n",
    "    phone_df = pd.read_excel('./file/danawa_crawling_product_detail_result_class.xlsx')\n",
    "    phone_df = phone_df.astype('string')\n",
    "    global phone_name\n",
    "    global phone_mem\n",
    "    phone_name = []\n",
    "    phone_mem = []\n",
    "    \n",
    "    phone_name_list = phone_df['상품명']\n",
    "    phone_mem_list = phone_df['내장메모리']\n",
    "    for n in phone_name_list:\n",
    "        phone_name_single = n.split()\n",
    "        phone_name_single = phone_name_single[0]\n",
    "        phone_name_single = ''.join(phone_name_single)\n",
    "        phone_name.append(phone_name_single)\n",
    "\n",
    "    for m in phone_mem_list:\n",
    "        phone_mem_single = m.replace(\"GB\", \"\")\n",
    "        phone_mem.append(phone_mem_single)"
   ]
  },
  {
   "cell_type": "code",
   "execution_count": 31,
   "id": "f3a4ff8b",
   "metadata": {},
   "outputs": [],
   "source": [
    "#검색\n",
    "def search_name(product):\n",
    "    driver.find_element(By.CSS_SELECTOR, '#topLayerQueryInput').send_keys(product)\n",
    "    driver.find_element(By.CSS_SELECTOR, '#cafe-search .btn').click()\n",
    "    time.sleep(1)"
   ]
  },
  {
   "cell_type": "code",
   "execution_count": 32,
   "id": "73b4c055",
   "metadata": {},
   "outputs": [],
   "source": [
    "#상세 검색\n",
    "def search_detail(product, mem, excepts):\n",
    "    driver.switch_to.frame('cafe_main')\n",
    "    #1년 설정\n",
    "    driver.find_element(By.CSS_SELECTOR,'#currentSearchDateTop').click()\n",
    "    time.sleep(1)\n",
    "    driver.find_element(By.XPATH,'//*[@id=\"select_list\"]/li[6]').click()\n",
    "    time.sleep(1)\n",
    "\n",
    "    #상세 설정\n",
    "    driver.find_element(By.CSS_SELECTOR,'#detailSearchBtn').click()\n",
    "    time.sleep(1)\n",
    "    driver.find_element(By.XPATH,'//*[@id=\"srch_detail\"]/div[2]/input').send_keys(excepts)\n",
    "    driver.find_element(By.CSS_SELECTOR,'.btn-search-green').click()\n",
    "    time.sleep(1)\n",
    "\n",
    "    #팬매완료도 보기\n",
    "    driver.find_element(By.XPATH,'//*[@id=\"searchOptionSelectDiv\"]/a').click()\n",
    "    time.sleep(1)\n",
    "    driver.find_element(By.XPATH,'//*[@id=\"searchOptionSelectDiv\"]/ul/li[1]/a').click()\n",
    "    time.sleep(1)"
   ]
  },
  {
   "cell_type": "code",
   "execution_count": 33,
   "id": "d9bfe55c",
   "metadata": {},
   "outputs": [],
   "source": [
    "#except 설정\n",
    "def set_except(product):\n",
    "    excepts = '삽니다, 매입, 구매, 구입'\n",
    "    \n",
    "    if '럭시' in product:\n",
    "        if '플러스' or 'plus' not in product:\n",
    "            excepts = excepts + ', 플러스, plus, +'\n",
    "        if '울트라' or 'ultra' not in product:\n",
    "            excepts = excepts + ', 울트라, ultra'\n",
    "    elif '이폰' in product:\n",
    "        if '프로' or 'pro' not in product:\n",
    "            excepts = excepts + ', 프로, pro'\n",
    "        if '맥스' or 'max' not in product:\n",
    "            excepts = excepts + ', 맥스, max'\n",
    "        if '미니' or 'mini' not in product:\n",
    "            excepts = excepts + ', 미니, mini'\n",
    "        if '플러스' or 'plus' not in product:\n",
    "            excepts = excepts + ', 플러스, plus'\n",
    "    \n",
    "    return excepts"
   ]
  },
  {
   "cell_type": "code",
   "execution_count": 34,
   "id": "e40f2a8a",
   "metadata": {},
   "outputs": [],
   "source": [
    "#전체 페이지 확인\n",
    "def chech_total_page():\n",
    "    num = 0\n",
    "    page_break = True\n",
    "    \n",
    "    while 1:\n",
    "        if num == 0:\n",
    "            if isExistXpath('//*[@id=\"main-area\"]/div[7]/a[11]'):\n",
    "                driver.find_element(By.XPATH,'.//*[@id=\"main-area\"]/div[7]/a[11]').click()\n",
    "                time.sleep(1)\n",
    "                num += 10\n",
    "            else:\n",
    "                for i in reversed(range(11)):\n",
    "                    page_xpath = '//*[@id=\"main-area\"]/div[7]/a[' + str(i+1) + ']'\n",
    "                    if isExistXpath(page_xpath):\n",
    "                        page = i+1\n",
    "                        page_break = False\n",
    "                        break\n",
    "        else:\n",
    "            if isExistXpath('//*[@id=\"main-area\"]/div[7]/a[12]'):\n",
    "                driver.find_element(By.XPATH,'.//*[@id=\"main-area\"]/div[7]/a[12]').click()\n",
    "                time.sleep(1)\n",
    "                num += 10\n",
    "            else:\n",
    "                for i in reversed(range(11)):\n",
    "                    page_xpath = '//*[@id=\"main-area\"]/div[7]/a[' + str(i+1) + ']'\n",
    "                    if isExistXpath(page_xpath):\n",
    "                        page = i\n",
    "                        page_break = False\n",
    "                        break\n",
    "        if page_break == False:\n",
    "            break\n",
    "\n",
    "    return page + num"
   ]
  },
  {
   "cell_type": "code",
   "execution_count": 35,
   "id": "6c480d6b",
   "metadata": {},
   "outputs": [],
   "source": [
    "def Crawling_all():\n",
    "    total_page = chech_total_page()\n",
    "    total_next_page = total_page // 10\n",
    "    last_page = total_page - total_next_page * 10\n",
    "    \n",
    "    go_back(total_next_page)\n",
    "    cur_page = 1\n",
    "    \n",
    "    print('----- Total Page : {}'.format(total_page), '------')\n",
    "    \n",
    "    if total_next_page == 0:\n",
    "        for page in range(total_page):\n",
    "            print('----- Current Page : {}'.format(cur_page), '------')\n",
    "            do_Crawling(0, page)\n",
    "            cur_page += 1\n",
    "            if cur_page > total_page:\n",
    "                print('Crawling succeed!')\n",
    "        \n",
    "    else:\n",
    "        for n in range(total_next_page+1):\n",
    "            if n == 0:\n",
    "                for page in range(10):\n",
    "                    print('----- Current Page : {}'.format(cur_page), '------')\n",
    "                    do_Crawling(0, page)\n",
    "                    cur_page += 1\n",
    "            \n",
    "            elif n > 0 and n != total_next_page:\n",
    "                for page in range(10):\n",
    "                    print('----- Current Page : {}'.format(cur_page), '------')\n",
    "                    do_Crawling(1, page)\n",
    "                    cur_page += 1\n",
    "            \n",
    "            elif n == total_next_page:\n",
    "                for page in range(last_page):\n",
    "                    print('----- Current Page : {}'.format(cur_page), '------')\n",
    "                    do_Crawling(1, page)\n",
    "                    cur_page += 1\n",
    "                    if cur_page > total_page:\n",
    "                        print('Crawling succeed!')"
   ]
  },
  {
   "cell_type": "code",
   "execution_count": 36,
   "id": "a99bd0ad",
   "metadata": {},
   "outputs": [],
   "source": [
    "#처음으로\n",
    "def go_back(total_next_page):\n",
    "    for i in reversed(range(total_next_page)):\n",
    "        driver.find_element(By.XPATH,'.//*[@id=\"main-area\"]/div[7]/a[1]').click()\n",
    "    driver.find_element(By.XPATH,'.//*[@id=\"main-area\"]/div[7]/a[1]').click()"
   ]
  },
  {
   "cell_type": "code",
   "execution_count": 48,
   "id": "c05e0ead",
   "metadata": {},
   "outputs": [],
   "source": [
    "get_product_list()"
   ]
  },
  {
   "cell_type": "code",
   "execution_count": 50,
   "id": "24bfd674",
   "metadata": {},
   "outputs": [],
   "source": [
    "options = Options()\n",
    "options.add_argument('headless'); # headless는 화면이나 페이지 이동을 표시하지 않고 동작하는 모드\n",
    "\n",
    "#chromedriver_autoinsttraller.install()\n",
    "driver = webdriver.Chrome(options=options)\n",
    "driver.implicitly_wait(5)\n",
    "driver.set_window_size(1920,1280)"
   ]
  },
  {
   "cell_type": "code",
   "execution_count": 51,
   "id": "a025b26d",
   "metadata": {
    "scrolled": false
   },
   "outputs": [
    {
     "name": "stdout",
     "output_type": "stream",
     "text": [
      "----- Total Page : 95 ------\n",
      "----- Current Page : 1 ------\n"
     ]
    },
    {
     "ename": "NameError",
     "evalue": "name 'prod_price_total' is not defined",
     "output_type": "error",
     "traceback": [
      "\u001b[1;31m---------------------------------------------------------------------------\u001b[0m",
      "\u001b[1;31mNameError\u001b[0m                                 Traceback (most recent call last)",
      "Cell \u001b[1;32mIn [51], line 16\u001b[0m\n\u001b[0;32m     13\u001b[0m search_detail(product, mem, excepts)\n\u001b[0;32m     15\u001b[0m \u001b[38;5;66;03m#크롤링\u001b[39;00m\n\u001b[1;32m---> 16\u001b[0m \u001b[43mCrawling_all\u001b[49m\u001b[43m(\u001b[49m\u001b[43m)\u001b[49m\n",
      "Cell \u001b[1;32mIn [35], line 24\u001b[0m, in \u001b[0;36mCrawling_all\u001b[1;34m()\u001b[0m\n\u001b[0;32m     22\u001b[0m     \u001b[38;5;28;01mfor\u001b[39;00m page \u001b[38;5;129;01min\u001b[39;00m \u001b[38;5;28mrange\u001b[39m(\u001b[38;5;241m10\u001b[39m):\n\u001b[0;32m     23\u001b[0m         \u001b[38;5;28mprint\u001b[39m(\u001b[38;5;124m'\u001b[39m\u001b[38;5;124m----- Current Page : \u001b[39m\u001b[38;5;132;01m{}\u001b[39;00m\u001b[38;5;124m'\u001b[39m\u001b[38;5;241m.\u001b[39mformat(cur_page), \u001b[38;5;124m'\u001b[39m\u001b[38;5;124m------\u001b[39m\u001b[38;5;124m'\u001b[39m)\n\u001b[1;32m---> 24\u001b[0m         \u001b[43mdo_Crawling\u001b[49m\u001b[43m(\u001b[49m\u001b[38;5;241;43m0\u001b[39;49m\u001b[43m,\u001b[49m\u001b[43m \u001b[49m\u001b[43mpage\u001b[49m\u001b[43m)\u001b[49m\n\u001b[0;32m     25\u001b[0m         cur_page \u001b[38;5;241m+\u001b[39m\u001b[38;5;241m=\u001b[39m \u001b[38;5;241m1\u001b[39m\n\u001b[0;32m     27\u001b[0m \u001b[38;5;28;01melif\u001b[39;00m n \u001b[38;5;241m>\u001b[39m \u001b[38;5;241m0\u001b[39m \u001b[38;5;129;01mand\u001b[39;00m n \u001b[38;5;241m!=\u001b[39m total_next_page:\n",
      "Cell \u001b[1;32mIn [29], line 22\u001b[0m, in \u001b[0;36mdo_Crawling\u001b[1;34m(num, page)\u001b[0m\n\u001b[0;32m     19\u001b[0m \u001b[38;5;28;01mexcept\u001b[39;00m:\n\u001b[0;32m     20\u001b[0m     product_price \u001b[38;5;241m=\u001b[39m \u001b[38;5;124m'\u001b[39m\u001b[38;5;124m'\u001b[39m\n\u001b[1;32m---> 22\u001b[0m \u001b[43mprod_price_total\u001b[49m\u001b[38;5;241m.\u001b[39mappend([product_date, product_price])\n\u001b[0;32m     24\u001b[0m driver\u001b[38;5;241m.\u001b[39mback()\n\u001b[0;32m     25\u001b[0m driver\u001b[38;5;241m.\u001b[39mswitch_to\u001b[38;5;241m.\u001b[39mframe(\u001b[38;5;124m'\u001b[39m\u001b[38;5;124mcafe_main\u001b[39m\u001b[38;5;124m'\u001b[39m)\n",
      "\u001b[1;31mNameError\u001b[0m: name 'prod_price_total' is not defined"
     ]
    }
   ],
   "source": [
    "#핸드폰 크롤링 시작\n",
    "for idx in range(len(phone_name)):\n",
    "    url = 'https://cafe.naver.com/ArticleList.nhn?search.clubid=10050146&search.menuid=339&search.boardtype=L'\n",
    "    driver.get(url)\n",
    "    \n",
    "    #시세를 찾을 검색어 설정/검색\n",
    "    product = phone_name[idx]\n",
    "    mem = phone_mem[idx]\n",
    "    excepts =  set_except(product) # 1개라도 포함되면 안됨\n",
    "    search_name(product)\n",
    "    \n",
    "    #상세 검색\n",
    "    search_detail(product, mem, excepts)\n",
    "    \n",
    "    #크롤링\n",
    "    Crawling_all()"
   ]
  },
  {
   "cell_type": "code",
   "execution_count": null,
   "id": "5aad30c2",
   "metadata": {},
   "outputs": [],
   "source": [
    "#------------------------------------------------------------------------여기 수정 전까지\n",
    "#엑셀\n",
    "wb = Workbook()\n",
    "wb.create_sheet('{}'.format(product), 0)\n",
    "prod_price_total = wb.active\n",
    "prod_price_total.append(['날짜','가격'])"
   ]
  },
  {
   "cell_type": "code",
   "execution_count": null,
   "id": "3e44382b",
   "metadata": {},
   "outputs": [],
   "source": [
    "driver.quit()\n",
    "product = product.replace(' ', '_')\n",
    "wb.save(f'./file/joonggonara_crwling_{product}_price.xlsx')"
   ]
  }
 ],
 "metadata": {
  "kernelspec": {
   "display_name": "Python 3 (ipykernel)",
   "language": "python",
   "name": "python3"
  },
  "language_info": {
   "codemirror_mode": {
    "name": "ipython",
    "version": 3
   },
   "file_extension": ".py",
   "mimetype": "text/x-python",
   "name": "python",
   "nbconvert_exporter": "python",
   "pygments_lexer": "ipython3",
   "version": "3.11.0"
  }
 },
 "nbformat": 4,
 "nbformat_minor": 5
}
