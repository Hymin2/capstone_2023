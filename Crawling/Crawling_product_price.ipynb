{
 "cells": [
  {
   "cell_type": "code",
   "execution_count": 67,
   "id": "28746ca1",
   "metadata": {},
   "outputs": [],
   "source": [
    "from selenium import webdriver\n",
    "#import chromedriver_autoinstaller\n",
    "from selenium.webdriver.chrome.options import Options\n",
    "from selenium.webdriver.common.by import By\n",
    "from selenium.webdriver.support.ui import WebDriverWait\n",
    "from selenium.webdriver.support import expected_conditions as EC\n",
    "from bs4 import BeautifulSoup\n",
    "from openpyxl import Workbook\n",
    "import time\n",
    "import pandas as pd"
   ]
  },
  {
   "cell_type": "code",
   "execution_count": 68,
   "id": "5fdde47d",
   "metadata": {},
   "outputs": [],
   "source": [
    "#xpath가 존재하는지 확인\n",
    "def isExistXpath(xpath, implicitly_wait_time=0, old_wait=25):\n",
    "    driver.implicitly_wait(implicitly_wait_time)\n",
    "    try:\n",
    "        driver.find_element(By.XPATH, xpath)\n",
    "    except Exception:\n",
    "        return False\n",
    "    finally:\n",
    "        driver.implicitly_wait(old_wait)\n",
    "    return True"
   ]
  },
  {
   "cell_type": "code",
   "execution_count": 69,
   "id": "dc3f6dc6",
   "metadata": {},
   "outputs": [],
   "source": [
    "options = Options()\n",
    "#options.add_argument('headless'); # headless는 화면이나 페이지 이동을 표시하지 않고 동작하는 모드\n",
    "\n",
    "#chromedriver_autoinsttraller.install()\n",
    "driver = webdriver.Chrome(options=options)\n",
    "driver.implicitly_wait(5)\n",
    "driver.set_window_size(1920,1280)\n",
    "\n",
    "#크롤링 시작\n",
    "url = 'https://cafe.naver.com/joonggonara'\n",
    "driver.get(url)\n",
    "\n"
   ]
  },
  {
   "cell_type": "code",
   "execution_count": 70,
   "id": "67c3e27a",
   "metadata": {},
   "outputs": [
    {
     "name": "stdout",
     "output_type": "stream",
     "text": [
      "이름 입력 : 갤럭시 s22\n",
      "몇 기가 ? : 256\n"
     ]
    }
   ],
   "source": [
    "product = ''\n",
    "excepts = '삽니다, 매입, 구매, 구입'  # 1개라도 포함되면 안됨\n",
    "\n",
    "name = input('이름 입력 : ')\n",
    "product = product + name\n",
    "\n",
    "mem = input('몇 기가 ? : ')\n",
    "product = product + ' ' + mem\n",
    "\n",
    "if '럭시' in product:\n",
    "    if '플러스' or 'plus' not in product:\n",
    "        excepts = excepts + ', 플러스, plus, +'\n",
    "    if '울트라' or 'ultra' not in product:\n",
    "        excepts = excepts + ', 울트라, ultra'\n",
    "elif '이폰' in product:\n",
    "    if '프로' or 'pro' not in product:\n",
    "        excepts = excepts + ', 프로, pro'\n",
    "    if '맥스' or 'max' not in product:\n",
    "        excepts = excepts + ', 맥스, max'\n",
    "    if '미니' or 'mini' not in product:\n",
    "        excepts = excepts + ', 미니, mini'\n",
    "    if '플러스' or 'plus' not in product:\n",
    "        excepts = excepts + ', 플러스, plus'\n",
    "\n",
    "#엑셀\n",
    "wb = Workbook()\n",
    "wb.create_sheet('{}'.format(product), 0)\n",
    "prod_price_total = wb.active\n",
    "prod_price_total.append(['가격'])"
   ]
  },
  {
   "cell_type": "code",
   "execution_count": 71,
   "id": "02810fae",
   "metadata": {},
   "outputs": [],
   "source": [
    "#검색\n",
    "driver.find_element(By.CSS_SELECTOR, '#topLayerQueryInput').send_keys(product)\n",
    "driver.find_element(By.CSS_SELECTOR, '#cafe-search .btn').click()\n",
    "time.sleep(1)\n",
    "\n",
    "driver.switch_to.frame('cafe_main')\n",
    "\n",
    "#한달간, 핸드폰 설정\n",
    "driver.find_element(By.CSS_SELECTOR,'#currentSearchDateTop').click()\n",
    "time.sleep(1)\n",
    "driver.find_element(By.XPATH,'//*[@id=\"select_list\"]/li[4]').click()\n",
    "time.sleep(1)\n",
    "driver.find_element(By.CSS_SELECTOR,'#currentSearchMenuTop').click()\n",
    "time.sleep(1)\n",
    "driver.find_element(By.XPATH, '//*[@id=\"divSearchMenuTop\"]/ul/li[21]').click()\n",
    "time.sleep(1)\n",
    "\n",
    "#상세 설정\n",
    "driver.find_element(By.CSS_SELECTOR,'#detailSearchBtn').click()\n",
    "time.sleep(1)\n",
    "driver.find_element(By.XPATH,'//*[@id=\"srch_detail\"]/div[2]/input').send_keys(excepts)\n",
    "driver.find_element(By.CSS_SELECTOR,'.btn-search-green').click()\n",
    "time.sleep(1)\n",
    "\n",
    "#팬매완료도 보기\n",
    "driver.find_element(By.XPATH,'//*[@id=\"searchOptionSelectDiv\"]/a').click()\n",
    "time.sleep(1)\n",
    "driver.find_element(By.XPATH,'//*[@id=\"searchOptionSelectDiv\"]/ul/li[1]/a').click()\n",
    "time.sleep(1)"
   ]
  },
  {
   "cell_type": "code",
   "execution_count": 72,
   "id": "9bacdb24",
   "metadata": {
    "scrolled": false
   },
   "outputs": [],
   "source": [
    "#전체 페이지 확인\n",
    "cur_page = 1\n",
    "\n",
    "num = 0\n",
    "page_break = True\n",
    "while 1:\n",
    "    if num == 0:\n",
    "        if isExistXpath('//*[@id=\"main-area\"]/div[7]/a[11]'):\n",
    "            driver.find_element(By.XPATH,'.//*[@id=\"main-area\"]/div[7]/a[11]').click()\n",
    "            time.sleep(1)\n",
    "            num += 10\n",
    "        else:\n",
    "            for i in reversed(range(11)):\n",
    "                page_xpath = '//*[@id=\"main-area\"]/div[7]/a[' + str(i+1) + ']'\n",
    "                if isExistXpath(page_xpath):\n",
    "                    page = i+1\n",
    "                    page_break = False\n",
    "                    break\n",
    "    else:\n",
    "        if isExistXpath('//*[@id=\"main-area\"]/div[7]/a[12]'):\n",
    "            driver.find_element(By.XPATH,'.//*[@id=\"main-area\"]/div[7]/a[12]').click()\n",
    "            time.sleep(1)\n",
    "            num += 10\n",
    "        else:\n",
    "            for i in reversed(range(11)):\n",
    "                page_xpath = '//*[@id=\"main-area\"]/div[7]/a[' + str(i+1) + ']'\n",
    "                if isExistXpath(page_xpath):\n",
    "                    page = i\n",
    "                    page_break = False\n",
    "                    break\n",
    "    if page_break == False:\n",
    "        break\n",
    "total_page = page + num\n",
    "total_next_page = total_page // 10\n",
    "last_page = total_page - total_next_page * 10"
   ]
  },
  {
   "cell_type": "code",
   "execution_count": 73,
   "id": "4e7018f2",
   "metadata": {
    "scrolled": true
   },
   "outputs": [],
   "source": [
    "#다시 처음으로\n",
    "for i in reversed(range(total_next_page)):\n",
    "    driver.find_element(By.XPATH,'.//*[@id=\"main-area\"]/div[7]/a[1]').click()\n",
    "driver.find_element(By.XPATH,'.//*[@id=\"main-area\"]/div[7]/a[1]').click()"
   ]
  },
  {
   "cell_type": "code",
   "execution_count": 74,
   "id": "cc3d427c",
   "metadata": {},
   "outputs": [],
   "source": [
    "def Crawling(num, page):\n",
    "    with_before = 0\n",
    "    \n",
    "    for i in range(len(driver.find_elements(By.CSS_SELECTOR, '.article'))):\n",
    "        articles = driver.find_elements(By.CSS_SELECTOR, 'a.article')[i]\n",
    "        articles.click()\n",
    "        time.sleep(1)\n",
    "        \n",
    "        try:\n",
    "            product_price_str = driver.find_element(By.CSS_SELECTOR, 'strong.cost').text\n",
    "            product_price_str = product_price_str[:-1]\n",
    "            product_price_str = product_price_str.replace(',', '')\n",
    "            product_price = int(product_price_str)\n",
    "        except:\n",
    "            product_price = ''\n",
    "        \n",
    "        prod_price_total.append([product_price])\n",
    "        \n",
    "        driver.back()\n",
    "        driver.switch_to.frame('cafe_main')\n",
    "    \n",
    "    cur_path = '//*[@id=\"main-area\"]/div[7]/a[{}]'.format(num+page+1)\n",
    "    driver.find_element(By.XPATH, cur_path).click()"
   ]
  },
  {
   "cell_type": "code",
   "execution_count": 75,
   "id": "dfc39794",
   "metadata": {
    "scrolled": false
   },
   "outputs": [
    {
     "name": "stdout",
     "output_type": "stream",
     "text": [
      "----- Total Page : 22 ------\n",
      "----- Current Page : 1 ------\n",
      "----- Current Page : 2 ------\n",
      "----- Current Page : 3 ------\n",
      "----- Current Page : 4 ------\n",
      "----- Current Page : 5 ------\n",
      "----- Current Page : 6 ------\n",
      "----- Current Page : 7 ------\n",
      "----- Current Page : 8 ------\n",
      "----- Current Page : 9 ------\n",
      "----- Current Page : 10 ------\n",
      "----- Current Page : 11 ------\n",
      "----- Current Page : 12 ------\n",
      "----- Current Page : 13 ------\n",
      "----- Current Page : 14 ------\n",
      "----- Current Page : 15 ------\n",
      "----- Current Page : 16 ------\n",
      "----- Current Page : 17 ------\n",
      "----- Current Page : 18 ------\n",
      "----- Current Page : 19 ------\n",
      "----- Current Page : 20 ------\n",
      "----- Current Page : 21 ------\n",
      "----- Current Page : 22 ------\n",
      "Crawling succeed!\n"
     ]
    }
   ],
   "source": [
    "#전체 페이지 크롤링\n",
    "print('----- Total Page : {}'.format(total_page), '------')\n",
    "\n",
    "if total_next_page == 0:\n",
    "    for page in range(total_page):\n",
    "        print('----- Current Page : {}'.format(cur_page), '------')\n",
    "        Crawling(0, page)\n",
    "        cur_page += 1\n",
    "        \n",
    "else:\n",
    "    for n in range(total_next_page+1):\n",
    "        if n == 0:\n",
    "            for page in range(10):\n",
    "                print('----- Current Page : {}'.format(cur_page), '------')\n",
    "                Crawling(0, page)\n",
    "                cur_page += 1\n",
    "            \n",
    "        elif n > 0 and n != total_next_page:\n",
    "            for page in range(10):\n",
    "                print('----- Current Page : {}'.format(cur_page), '------')\n",
    "                Crawling(1, page)\n",
    "                cur_page += 1\n",
    "            \n",
    "        elif n == total_next_page:\n",
    "            for page in range(last_page):\n",
    "                print('----- Current Page : {}'.format(cur_page), '------')\n",
    "                Crawling(1, page)\n",
    "                cur_page += 1\n",
    "                if cur_page > total_page:\n",
    "                    print('Crawling succeed!')"
   ]
  },
  {
   "cell_type": "code",
   "execution_count": 77,
   "id": "0fd4002f",
   "metadata": {},
   "outputs": [],
   "source": [
    "#driver.quit()\n",
    "wb.save(f'./file/joonggonara_crwling_{product}_price.xlsx')"
   ]
  },
  {
   "cell_type": "code",
   "execution_count": null,
   "id": "6281b901",
   "metadata": {},
   "outputs": [],
   "source": [
    "data = pd.read_excel(f'./file/joonggonara_crwling_{product}_price.xlsx')"
   ]
  },
  {
   "cell_type": "code",
   "execution_count": null,
   "id": "29f092c9",
   "metadata": {},
   "outputs": [],
   "source": [
    "\"\"\"#이상치 제거\n",
    "q1 = df['가격'].quantile(0.25)\n",
    "q3 = df['가격'].quantile(0.75)\n",
    "iqr = q3 - q1\"\"\""
   ]
  },
  {
   "cell_type": "code",
   "execution_count": 170,
   "id": "35b13b5b",
   "metadata": {},
   "outputs": [],
   "source": [
    "data = pd.DataFrame(prod_price_total)\n",
    "product_data_name = product + '시세'"
   ]
  },
  {
   "cell_type": "code",
   "execution_count": 171,
   "id": "fd2606a0",
   "metadata": {},
   "outputs": [],
   "source": [
    "data.to_excel('./file/danawa_crawling_price.xlsx', index =False)"
   ]
  },
  {
   "cell_type": "code",
   "execution_count": 66,
   "id": "26d278cd",
   "metadata": {},
   "outputs": [],
   "source": [
    "driver.quit()"
   ]
  }
 ],
 "metadata": {
  "kernelspec": {
   "display_name": "Python 3 (ipykernel)",
   "language": "python",
   "name": "python3"
  },
  "language_info": {
   "codemirror_mode": {
    "name": "ipython",
    "version": 3
   },
   "file_extension": ".py",
   "mimetype": "text/x-python",
   "name": "python",
   "nbconvert_exporter": "python",
   "pygments_lexer": "ipython3",
   "version": "3.10.9"
  }
 },
 "nbformat": 4,
 "nbformat_minor": 5
}
