{
 "cells": [
  {
   "cell_type": "code",
   "execution_count": 1,
   "id": "4fa10557",
   "metadata": {},
   "outputs": [],
   "source": [
    "from selenium import webdriver\n",
    "#import chromedriver_autoinstaller\n",
    "from selenium.webdriver.chrome.options import Options\n",
    "from selenium.webdriver.common.by import By\n",
    "from selenium.webdriver.support.ui import WebDriverWait\n",
    "from selenium.webdriver.support import expected_conditions as EC\n",
    "from bs4 import BeautifulSoup\n",
    "import time\n",
    "import pandas as pd"
   ]
  },
  {
   "cell_type": "code",
   "execution_count": 32,
   "id": "948f3556",
   "metadata": {},
   "outputs": [],
   "source": [
    "def get_prod_items(pro_items):\n",
    "    prod_data = []\n",
    "\n",
    "    for prod_item in prod_items:\n",
    "        try:\n",
    "            product_name = prod_item.select('p.prod_name > a')[0].text.strip()\n",
    "            product_name_list = product_name.split(',')\n",
    "            del product_name_list[1]\n",
    "            product_name = ' '.join(product_name_list)\n",
    "            product_name_list = product_name.split()\n",
    "            \n",
    "            company_name = product_name_list[0]\n",
    "            del product_name_list[0]\n",
    "            product_name = ' '.join(product_name_list)\n",
    "        except:\n",
    "            product_name = \"\"\n",
    "\n",
    "        try:\n",
    "            model_name = prod_item.select('span.cm_mark')[0].text.strip()\n",
    "            model_name_list = model_name.split(':')\n",
    "            del model_name_list[0]\n",
    "            model_name = ''.join(model_name_list)\n",
    "        except:\n",
    "            model_name = \"\"\n",
    "\n",
    "\n",
    "        mylist = [\"phone\", product_name, model_name, company_name]\n",
    "\n",
    "        prod_data.append(mylist)\n",
    "\n",
    "    return(prod_data)"
   ]
  },
  {
   "cell_type": "code",
   "execution_count": 33,
   "id": "44b41de7",
   "metadata": {},
   "outputs": [],
   "source": [
    "# 다나와 사이트 검색\n",
    " \n",
    "options = Options()\n",
    "options.add_argument('headless'); # headless는 화면이나 페이지 이동을 표시하지 않고 동작하는 모드"
   ]
  },
  {
   "cell_type": "code",
   "execution_count": 34,
   "id": "464742ba",
   "metadata": {},
   "outputs": [],
   "source": [
    "#chromedriver_autoinsttraller.install()\n",
    "driver = webdriver.Chrome(options=options)\n",
    "driver.implicitly_wait(5)\n",
    "driver.set_window_size(1920,1280)"
   ]
  },
  {
   "cell_type": "code",
   "execution_count": 35,
   "id": "a9d34204",
   "metadata": {},
   "outputs": [],
   "source": [
    "url = 'https://prod.danawa.com/list/?cate=12215709'\n",
    "driver.get(url)\n",
    "curPage = 1\n",
    "totalPage = 6\n",
    "\n",
    "prod_data_total = []"
   ]
  },
  {
   "cell_type": "code",
   "execution_count": 36,
   "id": "476ead83",
   "metadata": {},
   "outputs": [
    {
     "name": "stdout",
     "output_type": "stream",
     "text": [
      "----- Current Page : 1 ------\n",
      "----- Current Page : 2 ------\n",
      "----- Current Page : 3 ------\n",
      "----- Current Page : 4 ------\n",
      "----- Current Page : 5 ------\n",
      "----- Current Page : 6 ------\n",
      "Crawling succeed!\n"
     ]
    }
   ],
   "source": [
    "while curPage <= totalPage:\n",
    "    soup = BeautifulSoup(driver.page_source, 'html.parser')\n",
    "    prod_items = soup.select('li.prod_item.prod_layer')\n",
    "    print('----- Current Page : {}'.format(curPage), '------')\n",
    "\n",
    "    prod_item_list = get_prod_items(prod_items)\n",
    "    prod_data_total.append(prod_item_list)\n",
    "\n",
    "    curPage += 1\n",
    "\n",
    "    if curPage > totalPage:\n",
    "        print('Crawling succeed!')\n",
    "        break\n",
    "\n",
    "    cur_css = 'div.number_wrap > a:nth-child({})'.format(curPage)\n",
    "    WebDriverWait(driver,3).until(EC.presence_of_element_located((By.CSS_SELECTOR,cur_css))).click()\n",
    "\n",
    "    del soup\n",
    "\n",
    "    time.sleep(3)"
   ]
  },
  {
   "cell_type": "code",
   "execution_count": 37,
   "id": "6426f6d4",
   "metadata": {},
   "outputs": [],
   "source": [
    "driver.close()"
   ]
  },
  {
   "cell_type": "code",
   "execution_count": 38,
   "id": "7950c672",
   "metadata": {},
   "outputs": [],
   "source": [
    "total = []\n",
    "for temp in prod_data_total:\n",
    "    total += temp\n",
    "prod_data_total = total"
   ]
  },
  {
   "cell_type": "code",
   "execution_count": 39,
   "id": "8805a388",
   "metadata": {},
   "outputs": [],
   "source": [
    "data = pd.DataFrame(prod_data_total)"
   ]
  },
  {
   "cell_type": "code",
   "execution_count": 40,
   "id": "195eb36b",
   "metadata": {},
   "outputs": [],
   "source": [
    "data.columns = ['카테고리', '상품명', '모델명', '제조사명']"
   ]
  },
  {
   "cell_type": "code",
   "execution_count": 41,
   "id": "a2113c96",
   "metadata": {},
   "outputs": [],
   "source": [
    "data.to_excel('./file/danawa_crawling_result_class.xlsx', index =False)"
   ]
  },
  {
   "cell_type": "code",
   "execution_count": null,
   "id": "b6b37d89",
   "metadata": {},
   "outputs": [],
   "source": []
  }
 ],
 "metadata": {
  "kernelspec": {
   "display_name": "Python 3 (ipykernel)",
   "language": "python",
   "name": "python3"
  },
  "language_info": {
   "codemirror_mode": {
    "name": "ipython",
    "version": 3
   },
   "file_extension": ".py",
   "mimetype": "text/x-python",
   "name": "python",
   "nbconvert_exporter": "python",
   "pygments_lexer": "ipython3",
   "version": "3.10.9"
  }
 },
 "nbformat": 4,
 "nbformat_minor": 5
}
